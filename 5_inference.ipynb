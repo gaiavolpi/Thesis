{
 "cells": [
  {
   "cell_type": "markdown",
   "id": "2abf3543",
   "metadata": {},
   "source": [
    "# Complete pipeline"
   ]
  },
  {
   "cell_type": "code",
   "execution_count": 1,
   "id": "1aec9cd1",
   "metadata": {},
   "outputs": [
    {
     "name": "stderr",
     "output_type": "stream",
     "text": [
      "2025-10-30 10:45:48.698604: I tensorflow/core/platform/cpu_feature_guard.cc:210] This TensorFlow binary is optimized to use available CPU instructions in performance-critical operations.\n",
      "To enable the following instructions: AVX2 FMA, in other operations, rebuild TensorFlow with the appropriate compiler flags.\n"
     ]
    },
    {
     "name": "stdout",
     "output_type": "stream",
     "text": [
      "1 Physical GPUs, 1 Logical GPUs\n"
     ]
    },
    {
     "name": "stderr",
     "output_type": "stream",
     "text": [
      "WARNING: All log messages before absl::InitializeLog() is called are written to STDERR\n",
      "I0000 00:00:1761817550.214700  915376 gpu_device.cc:2020] Created device /job:localhost/replica:0/task:0/device:GPU:0 with 46131 MB memory:  -> device: 0, name: NVIDIA RTX A6000, pci bus id: 0000:61:00.0, compute capability: 8.6\n"
     ]
    }
   ],
   "source": [
    "from inf_functions import *\n",
    "from class_functions import *\n",
    "import matplotlib.pyplot as plt\n",
    "import sklearn\n",
    "import os \n",
    "\n",
    "os.environ['CUDA_VISIBLE_DEVICES']='2'\n",
    "os.environ[\"TF_CPP_MIN_LOG_LEVEL\"] = \"1\"\n",
    "\n",
    "import tensorflow as tf\n",
    "\n",
    "gpus = tf.config.list_physical_devices('GPU')\n",
    "if gpus:\n",
    "  try:\n",
    "    # Currently, memory growth needs to be the same across GPUs\n",
    "    for gpu in gpus:\n",
    "      tf.config.experimental.set_memory_growth(gpu, True)\n",
    "    logical_gpus = tf.config.list_logical_devices('GPU')\n",
    "    print(len(gpus), \"Physical GPUs,\", len(logical_gpus), \"Logical GPUs\")\n",
    "  except RuntimeError as e:\n",
    "    # Memory growth must be set before GPUs have been initialized\n",
    "    print(e)"
   ]
  },
  {
   "cell_type": "markdown",
   "id": "7fb8c8a7",
   "metadata": {},
   "source": [
    "## Low mass\n",
    "\n",
    "We select the first event from the low mass generated artificial dataset (*'/home/alberto_sinigaglia/gaia/CNN_low_mass/Test/Signal/mass1-12_mass2-10_sample1.hdf'*)"
   ]
  },
  {
   "cell_type": "code",
   "execution_count": 23,
   "id": "5c52f101",
   "metadata": {},
   "outputs": [],
   "source": [
    "low_mass_example = '/home/alberto_sinigaglia/gaia/CNN_low_mass/Test/Signal/mass1-12_mass2-10_sample1.hdf'"
   ]
  },
  {
   "cell_type": "markdown",
   "id": "e6a998da",
   "metadata": {},
   "source": [
    "### 1. Classification \n",
    "\n",
    "Firstly, we classify the selected event.\n",
    "\n",
    "**questa è da sistemare**"
   ]
  },
  {
   "cell_type": "code",
   "execution_count": 11,
   "id": "7d21c448",
   "metadata": {},
   "outputs": [],
   "source": [
    "root_dir = \"/home/alberto_sinigaglia/gaia\"\n",
    "mass_range = \"CNN_low_mass\"\n",
    "test_path = f\"{root_dir}/{mass_range}_test.npz\""
   ]
  },
  {
   "cell_type": "code",
   "execution_count": 13,
   "id": "67d85f2a",
   "metadata": {},
   "outputs": [],
   "source": [
    "with np.load(test_path, allow_pickle=True) as data:\n",
    "    X_test = data[\"X\"]\n",
    "    y_test = data[\"y\"]\n",
    "\n",
    "batch_size = 64\n",
    "test_dataset = make_dataset(X_test, y_test, classification=True, batch_size=batch_size, shuffle=False)"
   ]
  },
  {
   "cell_type": "code",
   "execution_count": 24,
   "id": "e81f6132",
   "metadata": {},
   "outputs": [
    {
     "name": "stdout",
     "output_type": "stream",
     "text": [
      "\u001b[1m41/41\u001b[0m \u001b[32m━━━━━━━━━━━━━━━━━━━━\u001b[0m\u001b[37m\u001b[0m \u001b[1m3s\u001b[0m 40ms/step\n",
      "The selected strain corresponds to a noise event.\n"
     ]
    }
   ],
   "source": [
    "class_model_path = f\"class_models/{mass_range}_best_model.keras\"\n",
    "class_model = tf.keras.models.load_model(class_model_path)\n",
    "\n",
    "y_test_pred = class_model.predict(X_test)\n",
    "pred = (y_test_pred > 0.4).astype(int)\n",
    "\n",
    "## our example\n",
    "label = pred[0]\n",
    "\n",
    "if label==1:\n",
    "    print('The selected strain corresponds to a GW event.')\n",
    "else:\n",
    "    print('The selected strain corresponds to a noise event.')"
   ]
  },
  {
   "cell_type": "markdown",
   "id": "e14df690",
   "metadata": {},
   "source": [
    "### 2. Regression\n",
    "\n",
    "Then, we infere the chirp mass and mass ratio."
   ]
  },
  {
   "cell_type": "code",
   "execution_count": 19,
   "id": "adacaedb",
   "metadata": {},
   "outputs": [],
   "source": [
    "with np.load(test_path, allow_pickle=True) as data:\n",
    "    X_test = data[\"X\"]\n",
    "    y_test = data[\"y\"]\n",
    "\n",
    "mask = y_test[:,0] == 1\n",
    "X_test, y_test= X_test[mask], y_test[mask]\n",
    "\n",
    "# create the dataset \n",
    "batch_size = 64\n",
    "test_dataset, test_scaler = make_dataset(X_test, y_test, classification=False, batch_size=batch_size, shuffle=False)"
   ]
  },
  {
   "cell_type": "code",
   "execution_count": null,
   "id": "5ba7ee5c",
   "metadata": {},
   "outputs": [
    {
     "name": "stdout",
     "output_type": "stream",
     "text": [
      "\u001b[1m41/41\u001b[0m \u001b[32m━━━━━━━━━━━━━━━━━━━━\u001b[0m\u001b[37m\u001b[0m \u001b[1m2s\u001b[0m 25ms/step\n"
     ]
    }
   ],
   "source": [
    "reg_model_path = f\"reg_models/{mass_range}_best_model.keras\"\n",
    "reg_model = tf.keras.models.load_model(reg_model_path)\n",
    "\n",
    "y_pred = reg_model.predict(X_test)\n",
    "y_pred = test_scaler.inverse_transform(y_pred)\n",
    "\n",
    "q_pred = y_pred[:,1]\n",
    "\n",
    "M_true = y_test[:,1].astype(np.float64)\n",
    "M_pred = y_pred[:,0]\n",
    "rmse = np.sqrt(np.mean((M_pred - M_true)**2))"
   ]
  },
  {
   "cell_type": "code",
   "execution_count": 22,
   "id": "8d11e51b",
   "metadata": {},
   "outputs": [
    {
     "name": "stdout",
     "output_type": "stream",
     "text": [
      "True parameters: m1 = 12.0, m2 = 10.0, q = 0.83, M = 9.53\n",
      "CNN predicted parameters: q = 0.71, M = 9.72\n",
      "RMSE on chirp mass prediction: 1.63\n"
     ]
    }
   ],
   "source": [
    "filename = low_mass_example.split('/')[-1]  # 'mass1-12_mass2-10_sample1.hdf'\n",
    "parts = filename.replace('.hdf', '').split('_') \n",
    "m1_true = float(parts[0].split('-')[1])\n",
    "m2_true = float(parts[1].split('-')[1])\n",
    "q_cnn = q_pred[0]\n",
    "M_cnn = M_pred[0]\n",
    "M_err = rmse\n",
    "\n",
    "print(f\"True parameters: m1 = {m1_true}, m2 = {m2_true}, q = {m2_true/m1_true:.2f}, M = {(m1_true*m2_true)**(3/5)/(m1_true+m2_true)**(1/5):.2f}\")\n",
    "print(f\"CNN predicted parameters: q = {q_cnn:.2f}, M = {M_cnn:.2f}\")\n",
    "print(f\"RMSE on chirp mass prediction: {M_err:.2f}\")"
   ]
  },
  {
   "cell_type": "markdown",
   "id": "f833917a",
   "metadata": {},
   "source": [
    "### 3. Parameter inference"
   ]
  },
  {
   "cell_type": "code",
   "execution_count": 35,
   "id": "60d043ed",
   "metadata": {},
   "outputs": [
    {
     "name": "stderr",
     "output_type": "stream",
     "text": [
      "100%|██████████| 53000/53000 [00:00<00:00, 154541.43it/s]\n"
     ]
    },
    {
     "name": "stdout",
     "output_type": "stream",
     "text": [
      "MCMC for m1:\n",
      "  Acceptance rate: 0.821\n",
      "  Mean: 13.59 M☉\n",
      "  Median: 13.45 M☉\n",
      "  Std: 1.96 M☉\n"
     ]
    },
    {
     "name": "stderr",
     "output_type": "stream",
     "text": [
      "100%|██████████| 53000/53000 [00:00<00:00, 110540.26it/s]"
     ]
    },
    {
     "name": "stdout",
     "output_type": "stream",
     "text": [
      "MCMC for m2:\n",
      "  Acceptance rate: 0.646\n",
      "  Mean: 11.09 M☉\n",
      "  Median: 10.89 M☉\n",
      "  Std: 0.86 M☉\n"
     ]
    },
    {
     "name": "stderr",
     "output_type": "stream",
     "text": [
      "\n"
     ]
    }
   ],
   "source": [
    "m1_chain, m2_chain, results = estimate_masses(M_cnn, q_cnn, M_err)"
   ]
  },
  {
   "cell_type": "code",
   "execution_count": null,
   "id": "1ba98e00",
   "metadata": {},
   "outputs": [],
   "source": [
    "import seaborn as sns\n",
    "\n",
    "# Converti in array\n",
    "m1 = m1_chain.flatten()\n",
    "m2 = m2_chain.flatten()\n",
    "\n",
    "sns.set(style=\"white\", context=\"talk\")\n",
    "\n",
    "plt.figure(figsize=(8,7))\n",
    "\n",
    "# KDE contour\n",
    "sns.kdeplot(\n",
    "    x=m1, \n",
    "    y=m2,\n",
    "    fill=True,\n",
    "    cmap=\"Blues\",\n",
    "    levels=15,\n",
    "    thresh=0.01,\n",
    "    alpha=0.8\n",
    ")\n",
    "\n",
    "# Scatter point true values\n",
    "plt.scatter(m1_true, m2_true, color=\"red\", marker=\"*\", s=200, label=\"Valori veri\")\n",
    "\n",
    "# Scatter point medians\n",
    "plt.scatter(m1_median, m2_median, color=\"gold\", edgecolor=\"black\", marker=\"o\", s=120, label=\"Mediana MCMC\")\n",
    "\n",
    "# Guide lines\n",
    "plt.axvline(m1_true, color=\"red\", linestyle=\"--\", alpha=0.8)\n",
    "plt.axhline(m2_true, color=\"red\", linestyle=\"--\", alpha=0.8)\n",
    "\n",
    "plt.axvline(m1_median, color=\"gold\", linestyle=\"--\", alpha=0.8)\n",
    "plt.axhline(m2_median, color=\"gold\", linestyle=\"--\", alpha=0.8)\n",
    "\n",
    "plt.xlabel(\"Massa primaria $m_1$ (M$_\\\\odot$)\")\n",
    "plt.ylabel(\"Massa secondaria $m_2$ (M$_\\\\odot$)\")\n",
    "plt.title(\"Posterior joint KDE ($m_1, m_2$) con verità e mediane\")\n",
    "plt.legend()\n",
    "\n",
    "sns.despine()\n",
    "plt.tight_layout()\n",
    "plt.show()\n"
   ]
  },
  {
   "cell_type": "code",
   "execution_count": null,
   "id": "94188196",
   "metadata": {},
   "outputs": [],
   "source": [
    "from scipy.stats import gaussian_kde\n",
    "\n",
    "# ---- USER INPUT ----\n",
    "# Replace these with your real data\n",
    "m1 = m1_chain.flatten()\n",
    "m2 = m2_chain.flatten()\n",
    "m1_med = m1_median\n",
    "m2_med = m2_median\n",
    "\n",
    "# ---- KDE 2D ----\n",
    "kde = gaussian_kde(np.vstack([m1, m2]))\n",
    "\n",
    "xmin, xmax = m1.min(), m1.max()\n",
    "ymin, ymax = m2.min(), m2.max()\n",
    "\n",
    "xx, yy = np.mgrid[xmin:xmax:200j, ymin:ymax:200j]\n",
    "positions = np.vstack([xx.ravel(), yy.ravel()])\n",
    "f = kde(positions).reshape(xx.shape)\n",
    "\n",
    "# ---- Layout ----\n",
    "fig = plt.figure(figsize=(8,8))\n",
    "grid = plt.GridSpec(4,4, hspace=0.05, wspace=0.05)\n",
    "\n",
    "ax_main  = fig.add_subplot(grid[1:4, 0:3])\n",
    "ax_top   = fig.add_subplot(grid[0,     0:3], sharex=ax_main)\n",
    "ax_right = fig.add_subplot(grid[1:4,     3], sharey=ax_main)\n",
    "\n",
    "# ---- Joint contour ----\n",
    "ax_main.contourf(xx, yy, f, levels=15, alpha=0.6)\n",
    "ax_main.contour(xx, yy, f, colors='k', linewidths=0.8)\n",
    "\n",
    "# True point\n",
    "ax_main.scatter(m1_true, m2_true, color=\"red\", s=120, marker=\"*\", label=\"True values\")\n",
    "# Median point\n",
    "ax_main.scatter(m1_med, m2_med, color=\"gold\", edgecolor=\"black\", s=100, label=\"Posterior median\")\n",
    "\n",
    "# Lines\n",
    "ax_main.axvline(m1_true, color=\"red\", linestyle=\"--\")\n",
    "ax_main.axhline(m2_true, color=\"red\", linestyle=\"--\")\n",
    "ax_main.axvline(m1_med, color=\"gold\", linestyle=\"--\")\n",
    "ax_main.axhline(m2_med, color=\"gold\", linestyle=\"--\")\n",
    "\n",
    "# --- Marginal: m1 ---\n",
    "ax_top.hist(m1, bins=40, density=True, alpha=0.7, color=\"steelblue\")\n",
    "ax_top.axvline(m1_true, color=\"red\", linestyle=\"--\")\n",
    "ax_top.axvline(m1_med, color=\"gold\", linestyle=\"--\")\n",
    "ax_top.set_ylabel(\"PDF\")\n",
    "plt.setp(ax_top.get_xticklabels(), visible=False)\n",
    "\n",
    "# --- Marginal: m2 ---\n",
    "ax_right.hist(m2, bins=40, density=True, alpha=0.7, orientation=\"horizontal\", color=\"steelblue\")\n",
    "ax_right.axhline(m2_true, color=\"red\", linestyle=\"--\")\n",
    "ax_right.axhline(m2_med, color=\"gold\", linestyle=\"--\")\n",
    "ax_right.set_xlabel(\"PDF\")\n",
    "plt.setp(ax_right.get_yticklabels(), visible=False)\n",
    "\n",
    "# --- Styling ---\n",
    "ax_main.set_xlabel(r\"Primary mass $m_1$ ($M_\\odot$)\")\n",
    "ax_main.set_ylabel(r\"Secondary mass $m_2$ ($M_\\odot$)\")\n",
    "ax_main.legend(loc=\"upper right\")\n",
    "ax_main.grid(alpha=0.3, linestyle=\"--\")\n",
    "plt.suptitle(\"Joint Posterior for $m_1$ and $m_2$\", fontsize=16)\n",
    "\n",
    "plt.tight_layout()\n",
    "plt.show()"
   ]
  }
 ],
 "metadata": {
  "kernelspec": {
   "display_name": "gaia",
   "language": "python",
   "name": "python3"
  },
  "language_info": {
   "codemirror_mode": {
    "name": "ipython",
    "version": 3
   },
   "file_extension": ".py",
   "mimetype": "text/x-python",
   "name": "python",
   "nbconvert_exporter": "python",
   "pygments_lexer": "ipython3",
   "version": "3.10.18"
  }
 },
 "nbformat": 4,
 "nbformat_minor": 5
}
